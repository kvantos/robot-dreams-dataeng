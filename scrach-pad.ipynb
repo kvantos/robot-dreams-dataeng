{
 "cells": [
  {
   "cell_type": "code",
   "execution_count": 19,
   "metadata": {},
   "outputs": [],
   "source": [
    "import requests\n",
    "import os\n",
    "\n",
    "from IPython.core.display import HTML\n",
    "os.environ['AUTH_TOKEN'] = '2b8d97ce57d401abd89f45b0079d8790edd940e6'"
   ]
  },
  {
   "cell_type": "code",
   "execution_count": 30,
   "metadata": {},
   "outputs": [
    {
     "name": "stdout",
     "output_type": "stream",
     "text": [
      "404\n",
      "{\"message\":\"You requested page that doesn't exist: page=10\"}\n",
      "\n"
     ]
    }
   ],
   "source": [
    "TOKEN = os.getenv('AUTH_TOKEN')\n",
    "\n",
    "headers = {\"Authorization\": TOKEN}\n",
    "api_url = \"https://fake-api-vycpfa6oca-uc.a.run.app/\"\n",
    "page_n = 0\n",
    "\n",
    "while True:\n",
    "    page_n += 1\n",
    "    data = requests.get(f\"{api_url}sales?date=2022-08-09&page={page_n}\", headers=headers)\n",
    "    if data.status_code == 200:\n",
    "        with open(f'sales_2022-08-09_{page_n}.json', 'w') as fh:\n",
    "            fh.write(data.text)\n",
    "    elif data.status_code == 404:\n",
    "        print(\"Read done.\")\n",
    "        break\n",
    "    else:\n",
    "        print(data.text)\n",
    "        print(\"Failed to connect API. Please check connection parameters\")\n",
    "        break\n",
    "\n"
   ]
  },
  {
   "cell_type": "code",
   "execution_count": 22,
   "metadata": {},
   "outputs": [
    {
     "name": "stdout",
     "output_type": "stream",
     "text": [
      "400\n",
      "{\"errors\":{\"date\":[\"Missing data for required field.\"],\"page\":[\"Missing data for required field.\"]}}\n",
      "\n"
     ]
    }
   ],
   "source": [
    "# HTML(data.text)\n",
    "print(data.status_code)\n",
    "print(data.text)\n",
    "\n"
   ]
  }
 ],
 "metadata": {
  "kernelspec": {
   "display_name": "Python 3.8.9 ('all-projects-venv': venv)",
   "language": "python",
   "name": "python3"
  },
  "language_info": {
   "codemirror_mode": {
    "name": "ipython",
    "version": 3
   },
   "file_extension": ".py",
   "mimetype": "text/x-python",
   "name": "python",
   "nbconvert_exporter": "python",
   "pygments_lexer": "ipython3",
   "version": "3.8.9"
  },
  "orig_nbformat": 4,
  "vscode": {
   "interpreter": {
    "hash": "5d2503b237031c41fc2fadb9a1a569d5bac62c893e6e084d01d82f71a440444a"
   }
  }
 },
 "nbformat": 4,
 "nbformat_minor": 2
}

{
 "cells": [
  {
   "cell_type": "code",
   "execution_count": 19,
   "metadata": {},
   "outputs": [],
   "source": [
    "import requests\n",
    "import os\n",
    "\n",
    "from IPython.core.display import HTML\n",
    "# os.environ['AUTH_TOKEN'] = ''"
   ]
  },
  {
   "cell_type": "code",
   "execution_count": 31,
   "metadata": {},
   "outputs": [
    {
     "name": "stdout",
     "output_type": "stream",
     "text": [
      "Read done.\n"
     ]
    }
   ],
   "source": [
    "TOKEN = os.getenv('AUTH_TOKEN')\n",
    "\n",
    "headers = {\"Authorization\": TOKEN}\n",
    "api_url = \"https://fake-api-vycpfa6oca-uc.a.run.app/\"\n",
    "page_n = 0\n",
    "\n",
    "while True:\n",
    "    page_n += 1\n",
    "    data = requests.get(f\"{api_url}sales?date=2022-08-09&page={page_n}\", headers=headers)\n",
    "    if data.status_code == 200:\n",
    "        with open(f'sales_2022-08-09_{page_n}.json', 'w') as fh:\n",
    "            fh.write(data.text)\n",
    "    elif data.status_code == 404:\n",
    "        print(\"Read done.\")\n",
    "        break\n",
    "    else:\n",
    "        print(data.text)\n",
    "        print(\"Failed to connect API. Please check connection parameters\")\n",
    "        break\n",
    "\n"
   ]
  },
  {
   "cell_type": "code",
   "execution_count": 60,
   "metadata": {},
   "outputs": [
    {
     "data": {
      "text/plain": [
       "['job2', 'lesson2-get-api.json', 'job1', 'data']"
      ]
     },
     "execution_count": 60,
     "metadata": {},
     "output_type": "execute_result"
    }
   ],
   "source": [
    "os.listdir('./lesson2')"
   ]
  },
  {
   "cell_type": "code",
   "execution_count": 73,
   "metadata": {},
   "outputs": [],
   "source": [
    "# import json\n",
    "from email.policy import default\n",
    "from fastavro import parse_schema\n",
    "from fastavro import writer\n",
    "from fastavro import reader\n",
    "\n",
    "schema = {\n",
    "    'doc': 'Data pumping job',\n",
    "    'name': 'json2avro',\n",
    "    'namespace': 'com.dwh.landing_zone',\n",
    "    'type': 'record',\n",
    "    'fields': [\n",
    "        {'name': 'client', 'type': 'string', 'default': 'null'},\n",
    "        {'name': 'puchase_date', 'type': 'string', 'default': 'null'},\n",
    "        {'name': 'product', 'type': 'string', 'default': 'null'},\n",
    "        {'name': 'price', 'type': 'float', 'default': -1}\n",
    "    ]\n",
    "}\n",
    "parsed_schema = parse_schema(schema)\n",
    "\n",
    "# with open('lesson2/data/raw/sales/2022-08-09/sales_2022-08-09_1.json', 'r') as fp:\n",
    "#     data = json.load(fp)\n",
    "\n",
    "with open('test1.avro', 'wb') as out:\n",
    "    writer(out, parsed_schema, data)\n"
   ]
  },
  {
   "cell_type": "code",
   "execution_count": 80,
   "metadata": {},
   "outputs": [
    {
     "name": "stdout",
     "output_type": "stream",
     "text": [
      "{'client': 'Kelly Gomez', 'puchase_date': 'null', 'product': 'coffee machine', 'price': 1008.0}\n",
      "{'client': 'Daisy Mcfarland', 'puchase_date': 'null', 'product': 'Laptop', 'price': 2767.0}\n",
      "{'client': 'Ashley Schneider', 'puchase_date': 'null', 'product': 'Vacuum cleaner', 'price': 690.0}\n",
      "{'client': 'Brian Yates', 'puchase_date': 'null', 'product': 'Microwave oven', 'price': 212.0}\n",
      "{'client': 'Kevin Barajas', 'puchase_date': 'null', 'product': 'coffee machine', 'price': 3547.0}\n",
      "{'client': 'Brittney Harding', 'puchase_date': 'null', 'product': 'Laptop', 'price': 1826.0}\n",
      "{'client': 'William Lee', 'puchase_date': 'null', 'product': 'coffee machine', 'price': 4835.0}\n",
      "{'client': 'Scott Hurst', 'puchase_date': 'null', 'product': 'Microwave oven', 'price': 553.0}\n",
      "{'client': 'Patricia Foster', 'puchase_date': 'null', 'product': 'Laptop', 'price': 927.0}\n",
      "{'client': 'Victoria Oliver', 'puchase_date': 'null', 'product': 'Vacuum cleaner', 'price': 368.0}\n",
      "{'client': 'Yvonne Friedman', 'puchase_date': 'null', 'product': 'coffee machine', 'price': 1780.0}\n",
      "{'client': 'Richard Campbell', 'puchase_date': 'null', 'product': 'Vacuum cleaner', 'price': 343.0}\n",
      "{'client': 'Gail Gomez', 'puchase_date': 'null', 'product': 'Phone', 'price': 866.0}\n",
      "{'client': 'Melanie Noble', 'puchase_date': 'null', 'product': 'coffee machine', 'price': 3747.0}\n",
      "{'client': 'Jonathan Bean', 'puchase_date': 'null', 'product': 'Laptop', 'price': 742.0}\n",
      "{'client': 'Roger Poole', 'puchase_date': 'null', 'product': 'Phone', 'price': 1467.0}\n",
      "{'client': 'Carmen Sanchez', 'puchase_date': 'null', 'product': 'Phone', 'price': 741.0}\n",
      "{'client': 'Stephen Pollard', 'puchase_date': 'null', 'product': 'Laptop', 'price': 916.0}\n",
      "{'client': 'Crystal Williams', 'puchase_date': 'null', 'product': 'Microwave oven', 'price': 496.0}\n",
      "{'client': 'Bill Mcdonald', 'puchase_date': 'null', 'product': 'Phone', 'price': 1299.0}\n",
      "{'client': 'John Gonzales', 'puchase_date': 'null', 'product': 'coffee machine', 'price': 3620.0}\n",
      "{'client': 'Melissa Sharp', 'puchase_date': 'null', 'product': 'Microwave oven', 'price': 282.0}\n",
      "{'client': 'Rebecca Johnson', 'puchase_date': 'null', 'product': 'Vacuum cleaner', 'price': 576.0}\n",
      "{'client': 'Crystal Horn', 'puchase_date': 'null', 'product': 'Phone', 'price': 764.0}\n",
      "{'client': 'Alison Scott', 'puchase_date': 'null', 'product': 'Laptop', 'price': 2269.0}\n",
      "{'client': 'Melanie Hughes', 'puchase_date': 'null', 'product': 'TV', 'price': 2284.0}\n",
      "{'client': 'Megan Atkins', 'puchase_date': 'null', 'product': 'coffee machine', 'price': 3211.0}\n",
      "{'client': 'William Aguilar', 'puchase_date': 'null', 'product': 'TV', 'price': 1070.0}\n",
      "{'client': 'Christina Wallace', 'puchase_date': 'null', 'product': 'Laptop', 'price': 2272.0}\n",
      "{'client': 'Jessica Zavala', 'puchase_date': 'null', 'product': 'Vacuum cleaner', 'price': 745.0}\n",
      "{'client': 'Andrew Garcia', 'puchase_date': 'null', 'product': 'Laptop', 'price': 1692.0}\n",
      "{'client': 'David Sharp', 'puchase_date': 'null', 'product': 'Phone', 'price': 1319.0}\n",
      "{'client': 'Jonathan Reynolds', 'puchase_date': 'null', 'product': 'Microwave oven', 'price': 558.0}\n",
      "{'client': 'Jessica Scott', 'puchase_date': 'null', 'product': 'Microwave oven', 'price': 323.0}\n",
      "{'client': 'Pamela Juarez', 'puchase_date': 'null', 'product': 'Laptop', 'price': 2364.0}\n",
      "{'client': 'Tiffany Sanders', 'puchase_date': 'null', 'product': 'Microwave oven', 'price': 371.0}\n",
      "{'client': 'Leah Brooks', 'puchase_date': 'null', 'product': 'Phone', 'price': 1036.0}\n",
      "{'client': 'Frank Williams', 'puchase_date': 'null', 'product': 'Vacuum cleaner', 'price': 684.0}\n",
      "{'client': 'Yolanda Taylor', 'puchase_date': 'null', 'product': 'Phone', 'price': 584.0}\n",
      "{'client': 'Lindsay Rocha', 'puchase_date': 'null', 'product': 'TV', 'price': 1317.0}\n",
      "{'client': 'Tyler Vaughan', 'puchase_date': 'null', 'product': 'Vacuum cleaner', 'price': 520.0}\n",
      "{'client': 'Jason Anderson', 'puchase_date': 'null', 'product': 'coffee machine', 'price': 1918.0}\n",
      "{'client': 'Jared Carter', 'puchase_date': 'null', 'product': 'coffee machine', 'price': 3009.0}\n",
      "{'client': 'Justin Estrada', 'puchase_date': 'null', 'product': 'TV', 'price': 1582.0}\n",
      "{'client': 'Antonio Walls', 'puchase_date': 'null', 'product': 'coffee machine', 'price': 3529.0}\n",
      "{'client': 'Matthew Harrison', 'puchase_date': 'null', 'product': 'Phone', 'price': 1078.0}\n",
      "{'client': 'Amanda Gonzales', 'puchase_date': 'null', 'product': 'TV', 'price': 559.0}\n",
      "{'client': 'Laura Love', 'puchase_date': 'null', 'product': 'Microwave oven', 'price': 243.0}\n",
      "{'client': 'Jonathan Schaefer', 'puchase_date': 'null', 'product': 'coffee machine', 'price': 3173.0}\n",
      "{'client': 'Jeffrey Watson', 'puchase_date': 'null', 'product': 'coffee machine', 'price': 3520.0}\n",
      "{'client': 'Kimberly Harper', 'puchase_date': 'null', 'product': 'Microwave oven', 'price': 233.0}\n",
      "{'client': 'Scott Yang', 'puchase_date': 'null', 'product': 'coffee machine', 'price': 2094.0}\n",
      "{'client': 'Michelle Martinez', 'puchase_date': 'null', 'product': 'Vacuum cleaner', 'price': 554.0}\n",
      "{'client': 'Shannon Hill', 'puchase_date': 'null', 'product': 'TV', 'price': 1707.0}\n",
      "{'client': 'Ronnie Smith', 'puchase_date': 'null', 'product': 'Laptop', 'price': 536.0}\n",
      "{'client': 'Tara Johnston', 'puchase_date': 'null', 'product': 'coffee machine', 'price': 2763.0}\n",
      "{'client': 'Sara Adams', 'puchase_date': 'null', 'product': 'Vacuum cleaner', 'price': 535.0}\n",
      "{'client': 'Alejandro Marsh', 'puchase_date': 'null', 'product': 'Laptop', 'price': 2007.0}\n",
      "{'client': 'Lauren Roberson', 'puchase_date': 'null', 'product': 'TV', 'price': 2230.0}\n",
      "{'client': 'Daniel Gibson', 'puchase_date': 'null', 'product': 'Vacuum cleaner', 'price': 780.0}\n",
      "{'client': 'Lauren Mccarthy', 'puchase_date': 'null', 'product': 'Phone', 'price': 778.0}\n",
      "{'client': 'George Durham', 'puchase_date': 'null', 'product': 'Laptop', 'price': 564.0}\n",
      "{'client': 'Eric Black', 'puchase_date': 'null', 'product': 'Microwave oven', 'price': 256.0}\n",
      "{'client': 'Diana White', 'puchase_date': 'null', 'product': 'Laptop', 'price': 587.0}\n",
      "{'client': 'Michelle Watts', 'puchase_date': 'null', 'product': 'Laptop', 'price': 2841.0}\n",
      "{'client': 'Tammy Vargas', 'puchase_date': 'null', 'product': 'Laptop', 'price': 1256.0}\n",
      "{'client': 'Crystal Phillips', 'puchase_date': 'null', 'product': 'coffee machine', 'price': 1476.0}\n",
      "{'client': 'Anne Dunn', 'puchase_date': 'null', 'product': 'Vacuum cleaner', 'price': 375.0}\n",
      "{'client': 'Anthony Duran', 'puchase_date': 'null', 'product': 'TV', 'price': 2017.0}\n",
      "{'client': 'Thomas Cross', 'puchase_date': 'null', 'product': 'TV', 'price': 871.0}\n",
      "{'client': 'Kelly Jimenez', 'puchase_date': 'null', 'product': 'Microwave oven', 'price': 326.0}\n",
      "{'client': 'Angel Jones', 'puchase_date': 'null', 'product': 'Microwave oven', 'price': 139.0}\n",
      "{'client': 'Eric Young', 'puchase_date': 'null', 'product': 'Vacuum cleaner', 'price': 629.0}\n",
      "{'client': 'Charlotte Rivera', 'puchase_date': 'null', 'product': 'Phone', 'price': 1452.0}\n",
      "{'client': 'Jay Chapman', 'puchase_date': 'null', 'product': 'Microwave oven', 'price': 522.0}\n",
      "{'client': 'Daniel Martinez', 'puchase_date': 'null', 'product': 'coffee machine', 'price': 411.0}\n",
      "{'client': 'Laurie Mills', 'puchase_date': 'null', 'product': 'Laptop', 'price': 1187.0}\n",
      "{'client': 'Charles Owens', 'puchase_date': 'null', 'product': 'Laptop', 'price': 804.0}\n",
      "{'client': 'Chelsea Page', 'puchase_date': 'null', 'product': 'Vacuum cleaner', 'price': 436.0}\n",
      "{'client': 'Ronald Walters', 'puchase_date': 'null', 'product': 'Microwave oven', 'price': 201.0}\n",
      "{'client': 'Joyce Parker', 'puchase_date': 'null', 'product': 'coffee machine', 'price': 2222.0}\n",
      "{'client': 'Debbie Brooks', 'puchase_date': 'null', 'product': 'Microwave oven', 'price': 116.0}\n",
      "{'client': 'Charles Hunter', 'puchase_date': 'null', 'product': 'TV', 'price': 2276.0}\n",
      "{'client': 'Scott West', 'puchase_date': 'null', 'product': 'Microwave oven', 'price': 443.0}\n",
      "{'client': 'Jason Williamson', 'puchase_date': 'null', 'product': 'Vacuum cleaner', 'price': 269.0}\n",
      "{'client': 'Jodi Evans', 'puchase_date': 'null', 'product': 'Microwave oven', 'price': 222.0}\n",
      "{'client': 'Angela Sharp', 'puchase_date': 'null', 'product': 'Phone', 'price': 1373.0}\n",
      "{'client': 'Mark Valencia', 'puchase_date': 'null', 'product': 'TV', 'price': 1263.0}\n",
      "{'client': 'Allison Garcia', 'puchase_date': 'null', 'product': 'Microwave oven', 'price': 541.0}\n",
      "{'client': 'Miguel Miller', 'puchase_date': 'null', 'product': 'TV', 'price': 1301.0}\n",
      "{'client': 'Mark Wilson', 'puchase_date': 'null', 'product': 'Phone', 'price': 821.0}\n",
      "{'client': 'Ryan Valdez', 'puchase_date': 'null', 'product': 'coffee machine', 'price': 2496.0}\n",
      "{'client': 'Tracy Warren', 'puchase_date': 'null', 'product': 'Phone', 'price': 166.0}\n",
      "{'client': 'Kimberly Ramirez', 'puchase_date': 'null', 'product': 'Vacuum cleaner', 'price': 102.0}\n",
      "{'client': 'Marvin Martin', 'puchase_date': 'null', 'product': 'Phone', 'price': 541.0}\n",
      "{'client': 'Gabriel Navarro', 'puchase_date': 'null', 'product': 'Vacuum cleaner', 'price': 429.0}\n",
      "{'client': 'Sarah Rodriguez', 'puchase_date': 'null', 'product': 'Laptop', 'price': 726.0}\n",
      "{'client': 'Jeffrey Freeman', 'puchase_date': 'null', 'product': 'Vacuum cleaner', 'price': 258.0}\n",
      "{'client': 'Kenneth Ramsey', 'puchase_date': 'null', 'product': 'Microwave oven', 'price': 428.0}\n",
      "{'client': 'Jeffrey Lee', 'puchase_date': 'null', 'product': 'Microwave oven', 'price': 493.0}\n"
     ]
    }
   ],
   "source": [
    "with open('/Users/kvantos/Projects/robot-dreams-dataeng/lesson2/data/stg/sales/2022-08-09/sales_2022-08-09_2.avro', 'rb') as fh:\n",
    "    for record in reader(fh):\n",
    "        print(record)\n"
   ]
  }
 ],
 "metadata": {
  "kernelspec": {
   "display_name": "Python 3.8.9 ('all-projects-venv': venv)",
   "language": "python",
   "name": "python3"
  },
  "language_info": {
   "codemirror_mode": {
    "name": "ipython",
    "version": 3
   },
   "file_extension": ".py",
   "mimetype": "text/x-python",
   "name": "python",
   "nbconvert_exporter": "python",
   "pygments_lexer": "ipython3",
   "version": "3.8.9"
  },
  "orig_nbformat": 4,
  "vscode": {
   "interpreter": {
    "hash": "5d2503b237031c41fc2fadb9a1a569d5bac62c893e6e084d01d82f71a440444a"
   }
  }
 },
 "nbformat": 4,
 "nbformat_minor": 2
}

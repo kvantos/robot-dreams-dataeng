{
 "cells": [
  {
   "cell_type": "code",
   "execution_count": 19,
   "metadata": {},
   "outputs": [],
   "source": [
    "import requests\n",
    "import os\n",
    "\n",
    "from IPython.core.display import HTML\n",
    "os.environ['AUTH_TOKEN'] = '2b8d97ce57d401abd89f45b0079d8790edd940e6'"
   ]
  },
  {
   "cell_type": "code",
   "execution_count": 16,
   "metadata": {},
   "outputs": [],
   "source": [
    "TOKEN = os.getenv('AUTH_TOKEN')\n",
    "\n",
    "headers = {\"Authorization\": TOKEN}\n",
    "api_url = \"https://fake-api-vycpfa6oca-uc.a.run.app/\"\n",
    "data = requests.get(api_url+\"sales?date=2022-08-09&page=1\", headers=headers)\n"
   ]
  },
  {
   "cell_type": "code",
   "execution_count": 20,
   "metadata": {},
   "outputs": [
    {
     "data": {
      "text/plain": [
       "'2b8d97ce57d401abd89f45b0079d8790edd940e6'"
      ]
     },
     "execution_count": 20,
     "metadata": {},
     "output_type": "execute_result"
    }
   ],
   "source": [
    "# HTML(data.text)\n",
    "print(data.status_code)\n",
    "print(data.text)\n",
    "\n"
   ]
  }
 ],
 "metadata": {
  "kernelspec": {
   "display_name": "Python 3.8.9 ('all-projects-venv': venv)",
   "language": "python",
   "name": "python3"
  },
  "language_info": {
   "codemirror_mode": {
    "name": "ipython",
    "version": 3
   },
   "file_extension": ".py",
   "mimetype": "text/x-python",
   "name": "python",
   "nbconvert_exporter": "python",
   "pygments_lexer": "ipython3",
   "version": "3.8.9"
  },
  "orig_nbformat": 4,
  "vscode": {
   "interpreter": {
    "hash": "5d2503b237031c41fc2fadb9a1a569d5bac62c893e6e084d01d82f71a440444a"
   }
  }
 },
 "nbformat": 4,
 "nbformat_minor": 2
}

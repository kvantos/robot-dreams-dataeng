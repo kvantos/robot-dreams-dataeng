{
 "cells": [
  {
   "cell_type": "code",
   "execution_count": 19,
   "metadata": {},
   "outputs": [],
   "source": [
    "from google.cloud import bigquery\n",
    "from google.cloud import storage\n"
   ]
  },
  {
   "cell_type": "code",
   "execution_count": 10,
   "metadata": {},
   "outputs": [],
   "source": [
    "client = bigquery.Client(location='europe-west3')"
   ]
  },
  {
   "cell_type": "code",
   "execution_count": 11,
   "metadata": {},
   "outputs": [
    {
     "name": "stdout",
     "output_type": "stream",
     "text": [
      "There are 2396 states with names starting with W.\n"
     ]
    }
   ],
   "source": [
    "# Configure the external data source and query job.\n",
    "external_config = bigquery.ExternalConfig(\"CSV\")\n",
    "external_config.source_uris = [\n",
    "    \"gs://de-2022-incoming-data-raw/sales/2022-09-1/2022-09-1__sales.csv\"\n",
    "]\n",
    "\n",
    "external_config.schema = [\n",
    "    bigquery.SchemaField(\"CustomerId\", \"STRING\"),\n",
    "    bigquery.SchemaField(\"PurchaseDate\", \"STRING\"),\n",
    "    bigquery.SchemaField(\"Product\", \"STRING\"),\n",
    "    bigquery.SchemaField(\"Price\", \"STRING\"),\n",
    "]\n",
    "\n",
    "external_config.options.skip_leading_rows = 1\n",
    "table_id = \"sales_raw\"\n",
    "job_config = bigquery.QueryJobConfig(table_definitions={table_id: external_config})"
   ]
  },
  {
   "cell_type": "code",
   "execution_count": 14,
   "metadata": {},
   "outputs": [
    {
     "data": {
      "text/plain": [
       "Row(('11', '2022-09-1', 'Laptop', '609$'), {'CustomerId': 0, 'PurchaseDate': 1, 'Product': 2, 'Price': 3})"
      ]
     },
     "execution_count": 14,
     "metadata": {},
     "output_type": "execute_result"
    }
   ],
   "source": [
    "sql = 'SELECT * FROM sales_raw'\n",
    "query_job = client.query(sql, job_config=job_config)\n",
    "\n",
    "data =  query_job.result()\n",
    "data.__next__()"
   ]
  },
  {
   "cell_type": "code",
   "execution_count": 15,
   "metadata": {},
   "outputs": [],
   "source": [
    "sql = \"\"\"\n",
    "Insert bronze.sales (CustomerId, PurchaseDate, Product, Price)\n",
    "select * from sales_raw;\n",
    "\"\"\"\n",
    "\n",
    "query_job = client.query(sql, job_config=job_config)\n",
    "data = query_job.result()\n",
    "for i in data:\n",
    "    print(i)"
   ]
  },
  {
   "cell_type": "code",
   "execution_count": 20,
   "metadata": {},
   "outputs": [],
   "source": [
    "gcs_client = storage.Client()\n",
    "BUCKET_NAME = 'de-2022-incoming-data-raw'\n",
    "bucket = gcs_client.bucket(BUCKET_NAME)\n"
   ]
  },
  {
   "cell_type": "code",
   "execution_count": 23,
   "metadata": {},
   "outputs": [
    {
     "name": "stdout",
     "output_type": "stream",
     "text": [
      "<Blob: de-2022-incoming-data-raw, sales/2022-09-1/2022-09-1__sales.csv, 1667665487267268>\n",
      "<Blob: de-2022-incoming-data-raw, sales/2022-09-10/2022-09-10__sales.csv, 1667665485251335>\n",
      "<Blob: de-2022-incoming-data-raw, sales/2022-09-11/2022-09-11__sales.csv, 1667665487075388>\n",
      "<Blob: de-2022-incoming-data-raw, sales/2022-09-12/2022-09-12__sales.csv, 1667665484235250>\n",
      "<Blob: de-2022-incoming-data-raw, sales/2022-09-13/2022-09-13__sales.csv, 1667665483356682>\n",
      "<Blob: de-2022-incoming-data-raw, sales/2022-09-14/2022-09-14__sales.csv, 1667665483332709>\n",
      "<Blob: de-2022-incoming-data-raw, sales/2022-09-15/2022-09-15__sales.csv, 1667665484336250>\n",
      "<Blob: de-2022-incoming-data-raw, sales/2022-09-16/2022-09-16__sales.csv, 1667665486690788>\n",
      "<Blob: de-2022-incoming-data-raw, sales/2022-09-17/2022-09-17__sales.csv, 1667665485363831>\n",
      "<Blob: de-2022-incoming-data-raw, sales/2022-09-18/2022-09-18__sales.csv, 1667665486361845>\n",
      "<Blob: de-2022-incoming-data-raw, sales/2022-09-19/2022-09-19__sales.csv, 1667665486228103>\n",
      "<Blob: de-2022-incoming-data-raw, sales/2022-09-2/2022-09-2__sales.csv, 1667665484778908>\n",
      "<Blob: de-2022-incoming-data-raw, sales/2022-09-20/2022-09-20__sales.csv, 1667665486624443>\n",
      "<Blob: de-2022-incoming-data-raw, sales/2022-09-21/2022-09-21__sales.csv, 1667665485706362>\n",
      "<Blob: de-2022-incoming-data-raw, sales/2022-09-22/2022-09-22__sales.csv, 1667665483782269>\n",
      "<Blob: de-2022-incoming-data-raw, sales/2022-09-23/2022-09-23__sales.csv, 1667665483982225>\n",
      "<Blob: de-2022-incoming-data-raw, sales/2022-09-24/2022-09-24__sales.csv, 1667665483847547>\n",
      "<Blob: de-2022-incoming-data-raw, sales/2022-09-25/2022-09-25__sales.csv, 1667665483370025>\n",
      "<Blob: de-2022-incoming-data-raw, sales/2022-09-26/2022-09-26__sales.csv, 1667665485856461>\n",
      "<Blob: de-2022-incoming-data-raw, sales/2022-09-27/2022-09-27__sales.csv, 1667665486168636>\n",
      "<Blob: de-2022-incoming-data-raw, sales/2022-09-28/2022-09-28__sales.csv, 1667665485692833>\n",
      "<Blob: de-2022-incoming-data-raw, sales/2022-09-29/2022-09-29__sales.csv, 1667665486814066>\n",
      "<Blob: de-2022-incoming-data-raw, sales/2022-09-3/2022-09-3__sales.csv, 1667665484917062>\n",
      "<Blob: de-2022-incoming-data-raw, sales/2022-09-30/2022-09-30__sales.csv, 1667665484792254>\n",
      "<Blob: de-2022-incoming-data-raw, sales/2022-09-4/2022-09-4__sales.csv, 1667665485236765>\n",
      "<Blob: de-2022-incoming-data-raw, sales/2022-09-5/2022-09-5__sales.csv, 1667665484432620>\n",
      "<Blob: de-2022-incoming-data-raw, sales/2022-09-6/2022-09-6__sales.csv, 1667665487531321>\n",
      "<Blob: de-2022-incoming-data-raw, sales/2022-09-7/2022-09-7__sales.csv, 1667665487601881>\n",
      "<Blob: de-2022-incoming-data-raw, sales/2022-09-8/2022-09-8__sales.csv, 1667665487133415>\n",
      "<Blob: de-2022-incoming-data-raw, sales/2022-09-9/2022-09-9__sales.csv, 1667665487786456>\n"
     ]
    }
   ],
   "source": [
    "for i in bucket.list_blobs(prefix='sales'):\n",
    "    print(i)"
   ]
  }
 ],
 "metadata": {
  "kernelspec": {
   "display_name": "Python 3.7.14 64-bit ('3.7.14')",
   "language": "python",
   "name": "python3"
  },
  "language_info": {
   "codemirror_mode": {
    "name": "ipython",
    "version": 3
   },
   "file_extension": ".py",
   "mimetype": "text/x-python",
   "name": "python",
   "nbconvert_exporter": "python",
   "pygments_lexer": "ipython3",
   "version": "3.7.14"
  },
  "orig_nbformat": 4,
  "vscode": {
   "interpreter": {
    "hash": "88fcc5566fb1e594f903b658c85d165e2b9eb453a142f9879759ef78730ff8b0"
   }
  }
 },
 "nbformat": 4,
 "nbformat_minor": 2
}
